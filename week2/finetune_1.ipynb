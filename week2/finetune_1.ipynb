{
 "cells": [
  {
   "cell_type": "code",
   "execution_count": 1,
   "id": "0e4735c4",
   "metadata": {
    "_cell_guid": "b1076dfc-b9ad-4769-8c92-a6c4dae69d19",
    "_uuid": "8f2839f25d086af736a60e9eeb907d3b93b6e0e5",
    "execution": {
     "iopub.execute_input": "2025-01-08T10:06:20.708317Z",
     "iopub.status.busy": "2025-01-08T10:06:20.707979Z",
     "iopub.status.idle": "2025-01-08T10:06:27.138097Z",
     "shell.execute_reply": "2025-01-08T10:06:27.136982Z"
    },
    "papermill": {
     "duration": 6.435607,
     "end_time": "2025-01-08T10:06:27.139661",
     "exception": false,
     "start_time": "2025-01-08T10:06:20.704054",
     "status": "completed"
    },
    "tags": []
   },
   "outputs": [
    {
     "name": "stdout",
     "output_type": "stream",
     "text": [
      "Collecting ultralytics\r\n",
      "  Downloading ultralytics-8.3.58-py3-none-any.whl.metadata (35 kB)\r\n",
      "Requirement already satisfied: numpy>=1.23.0 in /usr/local/lib/python3.10/dist-packages (from ultralytics) (1.26.4)\r\n",
      "Requirement already satisfied: matplotlib>=3.3.0 in /usr/local/lib/python3.10/dist-packages (from ultralytics) (3.7.1)\r\n",
      "Requirement already satisfied: opencv-python>=4.6.0 in /usr/local/lib/python3.10/dist-packages (from ultralytics) (4.10.0.84)\r\n",
      "Requirement already satisfied: pillow>=7.1.2 in /usr/local/lib/python3.10/dist-packages (from ultralytics) (10.4.0)\r\n",
      "Requirement already satisfied: pyyaml>=5.3.1 in /usr/local/lib/python3.10/dist-packages (from ultralytics) (6.0.2)\r\n",
      "Requirement already satisfied: requests>=2.23.0 in /usr/local/lib/python3.10/dist-packages (from ultralytics) (2.32.3)\r\n",
      "Requirement already satisfied: scipy>=1.4.1 in /usr/local/lib/python3.10/dist-packages (from ultralytics) (1.13.1)\r\n",
      "Requirement already satisfied: torch>=1.8.0 in /usr/local/lib/python3.10/dist-packages (from ultralytics) (2.4.1+cu121)\r\n",
      "Requirement already satisfied: torchvision>=0.9.0 in /usr/local/lib/python3.10/dist-packages (from ultralytics) (0.19.1+cu121)\r\n",
      "Requirement already satisfied: tqdm>=4.64.0 in /usr/local/lib/python3.10/dist-packages (from ultralytics) (4.66.5)\r\n",
      "Requirement already satisfied: psutil in /usr/local/lib/python3.10/dist-packages (from ultralytics) (5.9.5)\r\n",
      "Requirement already satisfied: py-cpuinfo in /usr/local/lib/python3.10/dist-packages (from ultralytics) (9.0.0)\r\n",
      "Requirement already satisfied: pandas>=1.1.4 in /usr/local/lib/python3.10/dist-packages (from ultralytics) (2.1.4)\r\n",
      "Requirement already satisfied: seaborn>=0.11.0 in /usr/local/lib/python3.10/dist-packages (from ultralytics) (0.12.2)\r\n",
      "Collecting ultralytics-thop>=2.0.0 (from ultralytics)\r\n",
      "  Downloading ultralytics_thop-2.0.13-py3-none-any.whl.metadata (9.4 kB)\r\n",
      "Requirement already satisfied: contourpy>=1.0.1 in /usr/local/lib/python3.10/dist-packages (from matplotlib>=3.3.0->ultralytics) (1.3.0)\r\n",
      "Requirement already satisfied: cycler>=0.10 in /usr/local/lib/python3.10/dist-packages (from matplotlib>=3.3.0->ultralytics) (0.12.1)\r\n",
      "Requirement already satisfied: fonttools>=4.22.0 in /usr/local/lib/python3.10/dist-packages (from matplotlib>=3.3.0->ultralytics) (4.53.1)\r\n",
      "Requirement already satisfied: kiwisolver>=1.0.1 in /usr/local/lib/python3.10/dist-packages (from matplotlib>=3.3.0->ultralytics) (1.4.7)\r\n",
      "Requirement already satisfied: packaging>=20.0 in /usr/local/lib/python3.10/dist-packages (from matplotlib>=3.3.0->ultralytics) (24.1)\r\n",
      "Requirement already satisfied: pyparsing>=2.3.1 in /usr/local/lib/python3.10/dist-packages (from matplotlib>=3.3.0->ultralytics) (3.1.4)\r\n",
      "Requirement already satisfied: python-dateutil>=2.7 in /usr/local/lib/python3.10/dist-packages (from matplotlib>=3.3.0->ultralytics) (2.8.2)\r\n",
      "Requirement already satisfied: pytz>=2020.1 in /usr/local/lib/python3.10/dist-packages (from pandas>=1.1.4->ultralytics) (2024.2)\r\n",
      "Requirement already satisfied: tzdata>=2022.1 in /usr/local/lib/python3.10/dist-packages (from pandas>=1.1.4->ultralytics) (2024.1)\r\n",
      "Requirement already satisfied: charset-normalizer<4,>=2 in /usr/local/lib/python3.10/dist-packages (from requests>=2.23.0->ultralytics) (3.3.2)\r\n",
      "Requirement already satisfied: idna<4,>=2.5 in /usr/local/lib/python3.10/dist-packages (from requests>=2.23.0->ultralytics) (3.10)\r\n",
      "Requirement already satisfied: urllib3<3,>=1.21.1 in /usr/local/lib/python3.10/dist-packages (from requests>=2.23.0->ultralytics) (2.2.3)\r\n",
      "Requirement already satisfied: certifi>=2017.4.17 in /usr/local/lib/python3.10/dist-packages (from requests>=2.23.0->ultralytics) (2024.8.30)\r\n",
      "Requirement already satisfied: filelock in /usr/local/lib/python3.10/dist-packages (from torch>=1.8.0->ultralytics) (3.16.1)\r\n",
      "Requirement already satisfied: typing-extensions>=4.8.0 in /usr/local/lib/python3.10/dist-packages (from torch>=1.8.0->ultralytics) (4.12.2)\r\n",
      "Requirement already satisfied: sympy in /usr/local/lib/python3.10/dist-packages (from torch>=1.8.0->ultralytics) (1.13.3)\r\n",
      "Requirement already satisfied: networkx in /usr/local/lib/python3.10/dist-packages (from torch>=1.8.0->ultralytics) (3.3)\r\n",
      "Requirement already satisfied: jinja2 in /usr/local/lib/python3.10/dist-packages (from torch>=1.8.0->ultralytics) (3.1.4)\r\n",
      "Requirement already satisfied: fsspec in /usr/local/lib/python3.10/dist-packages (from torch>=1.8.0->ultralytics) (2024.6.1)\r\n",
      "Requirement already satisfied: six>=1.5 in /usr/local/lib/python3.10/dist-packages (from python-dateutil>=2.7->matplotlib>=3.3.0->ultralytics) (1.16.0)\r\n",
      "Requirement already satisfied: MarkupSafe>=2.0 in /usr/local/lib/python3.10/dist-packages (from jinja2->torch>=1.8.0->ultralytics) (2.1.5)\r\n",
      "Requirement already satisfied: mpmath<1.4,>=1.1.0 in /usr/local/lib/python3.10/dist-packages (from sympy->torch>=1.8.0->ultralytics) (1.3.0)\r\n",
      "Downloading ultralytics-8.3.58-py3-none-any.whl (905 kB)\r\n",
      "\u001b[2K   \u001b[90m━━━━━━━━━━━━━━━━━━━━━━━━━━━━━━━━━━━━━━━━\u001b[0m \u001b[32m905.3/905.3 kB\u001b[0m \u001b[31m15.1 MB/s\u001b[0m eta \u001b[36m0:00:00\u001b[0m\r\n",
      "\u001b[?25hDownloading ultralytics_thop-2.0.13-py3-none-any.whl (26 kB)\r\n",
      "Installing collected packages: ultralytics-thop, ultralytics\r\n",
      "Successfully installed ultralytics-8.3.58 ultralytics-thop-2.0.13\r\n",
      "Note: you may need to restart the kernel to use updated packages.\n"
     ]
    }
   ],
   "source": [
    "pip install ultralytics --upgrade"
   ]
  },
  {
   "cell_type": "code",
   "execution_count": 2,
   "id": "63f71143",
   "metadata": {
    "execution": {
     "iopub.execute_input": "2025-01-08T10:06:27.147299Z",
     "iopub.status.busy": "2025-01-08T10:06:27.147026Z",
     "iopub.status.idle": "2025-01-08T10:06:31.662785Z",
     "shell.execute_reply": "2025-01-08T10:06:31.661868Z"
    },
    "papermill": {
     "duration": 4.521378,
     "end_time": "2025-01-08T10:06:31.664631",
     "exception": false,
     "start_time": "2025-01-08T10:06:27.143253",
     "status": "completed"
    },
    "tags": []
   },
   "outputs": [
    {
     "name": "stdout",
     "output_type": "stream",
     "text": [
      "Creating new Ultralytics Settings v0.0.6 file ✅ \n",
      "View Ultralytics Settings with 'yolo settings' or at '/root/.config/Ultralytics/settings.json'\n",
      "Update Settings with 'yolo settings key=value', i.e. 'yolo settings runs_dir=path/to/dir'. For help see https://docs.ultralytics.com/quickstart/#ultralytics-settings.\n"
     ]
    }
   ],
   "source": [
    "from ultralytics import YOLO\n",
    "import matplotlib.pyplot as plt\n",
    "import matplotlib.image as mpimg\n",
    "import cv2\n",
    "import os\n",
    "import shutil\n",
    "import torch"
   ]
  },
  {
   "cell_type": "code",
   "execution_count": 3,
   "id": "b5672e8b",
   "metadata": {
    "execution": {
     "iopub.execute_input": "2025-01-08T10:06:31.672246Z",
     "iopub.status.busy": "2025-01-08T10:06:31.671864Z",
     "iopub.status.idle": "2025-01-08T10:06:32.639256Z",
     "shell.execute_reply": "2025-01-08T10:06:32.638494Z"
    },
    "papermill": {
     "duration": 0.973078,
     "end_time": "2025-01-08T10:06:32.641081",
     "exception": false,
     "start_time": "2025-01-08T10:06:31.668003",
     "status": "completed"
    },
    "tags": []
   },
   "outputs": [
    {
     "name": "stdout",
     "output_type": "stream",
     "text": [
      "Downloading https://github.com/ultralytics/assets/releases/download/v8.3.0/yolov8l.pt to 'yolov8l.pt'...\n"
     ]
    },
    {
     "name": "stderr",
     "output_type": "stream",
     "text": [
      "100%|██████████| 83.7M/83.7M [00:00<00:00, 308MB/s]\n"
     ]
    }
   ],
   "source": [
    "# loading YOLO V8 'l' model\n",
    "model = YOLO('yolov8l.pt')"
   ]
  },
  {
   "cell_type": "code",
   "execution_count": 4,
   "id": "7c832e19",
   "metadata": {
    "execution": {
     "iopub.execute_input": "2025-01-08T10:06:32.648931Z",
     "iopub.status.busy": "2025-01-08T10:06:32.648635Z",
     "iopub.status.idle": "2025-01-08T10:06:32.652034Z",
     "shell.execute_reply": "2025-01-08T10:06:32.651345Z"
    },
    "papermill": {
     "duration": 0.008689,
     "end_time": "2025-01-08T10:06:32.653346",
     "exception": false,
     "start_time": "2025-01-08T10:06:32.644657",
     "status": "completed"
    },
    "tags": []
   },
   "outputs": [],
   "source": [
    "path1 = '/kaggle/input/yolo-custom-training-car-dataset/Cars.v2i.yolov8/data.yaml'\n",
    "path2 = '/kaggle/input/yolo-custom-training-car-dataset2/vehicles.v1i.yolov8/data.yaml'\n",
    "iterations = 10"
   ]
  },
  {
   "cell_type": "code",
   "execution_count": 5,
   "id": "5b0565fe",
   "metadata": {
    "execution": {
     "iopub.execute_input": "2025-01-08T10:06:32.660474Z",
     "iopub.status.busy": "2025-01-08T10:06:32.660206Z",
     "iopub.status.idle": "2025-01-08T10:06:32.663526Z",
     "shell.execute_reply": "2025-01-08T10:06:32.662713Z"
    },
    "papermill": {
     "duration": 0.008338,
     "end_time": "2025-01-08T10:06:32.664980",
     "exception": false,
     "start_time": "2025-01-08T10:06:32.656642",
     "status": "completed"
    },
    "tags": []
   },
   "outputs": [],
   "source": [
    "# for i in range(iterations):\n",
    "#     training_results = model.train(data = path1, epochs=2, classes = [0])\n",
    "#     training_results = model.train(data = path2, epochs=2, classes = [0])\n",
    "#     val_results = model.val()\n",
    "#     print(val_results)"
   ]
  },
  {
   "cell_type": "code",
   "execution_count": 6,
   "id": "8578d1f1",
   "metadata": {
    "execution": {
     "iopub.execute_input": "2025-01-08T10:06:32.672512Z",
     "iopub.status.busy": "2025-01-08T10:06:32.672250Z",
     "iopub.status.idle": "2025-01-08T10:06:32.675483Z",
     "shell.execute_reply": "2025-01-08T10:06:32.674717Z"
    },
    "papermill": {
     "duration": 0.008322,
     "end_time": "2025-01-08T10:06:32.676665",
     "exception": false,
     "start_time": "2025-01-08T10:06:32.668343",
     "status": "completed"
    },
    "tags": []
   },
   "outputs": [],
   "source": [
    "# Compress the 'output' directory into a ZIP file named 'output.zip'\n",
    "# shutil.make_archive('/kaggle/working/output3', 'zip', '/kaggle/working/runs')"
   ]
  },
  {
   "cell_type": "code",
   "execution_count": 7,
   "id": "60bd7eac",
   "metadata": {
    "execution": {
     "iopub.execute_input": "2025-01-08T10:06:32.683954Z",
     "iopub.status.busy": "2025-01-08T10:06:32.683658Z",
     "iopub.status.idle": "2025-01-08T10:06:32.689389Z",
     "shell.execute_reply": "2025-01-08T10:06:32.688549Z"
    },
    "papermill": {
     "duration": 0.010813,
     "end_time": "2025-01-08T10:06:32.690723",
     "exception": false,
     "start_time": "2025-01-08T10:06:32.679910",
     "status": "completed"
    },
    "tags": []
   },
   "outputs": [
    {
     "data": {
      "text/plain": [
       "['yolov8l.pt', '__notebook__.ipynb']"
      ]
     },
     "execution_count": 7,
     "metadata": {},
     "output_type": "execute_result"
    }
   ],
   "source": [
    "os.listdir('/kaggle/working/')"
   ]
  },
  {
   "cell_type": "code",
   "execution_count": 8,
   "id": "af58206f",
   "metadata": {
    "execution": {
     "iopub.execute_input": "2025-01-08T10:06:32.699068Z",
     "iopub.status.busy": "2025-01-08T10:06:32.698825Z",
     "iopub.status.idle": "2025-01-08T10:06:32.703833Z",
     "shell.execute_reply": "2025-01-08T10:06:32.702979Z"
    },
    "papermill": {
     "duration": 0.010762,
     "end_time": "2025-01-08T10:06:32.705313",
     "exception": false,
     "start_time": "2025-01-08T10:06:32.694551",
     "status": "completed"
    },
    "tags": []
   },
   "outputs": [
    {
     "data": {
      "text/plain": [
       "'/kaggle/working/output8.zip'"
      ]
     },
     "execution_count": 8,
     "metadata": {},
     "output_type": "execute_result"
    }
   ],
   "source": [
    "shutil.make_archive('/kaggle/working/output8', 'zip', '/kaggle/working/runs/detect/train232323232323232323')"
   ]
  }
 ],
 "metadata": {
  "kaggle": {
   "accelerator": "gpu",
   "dataSources": [
    {
     "datasetId": 6340791,
     "sourceId": 10251306,
     "sourceType": "datasetVersion"
    },
    {
     "datasetId": 6350213,
     "sourceId": 10264618,
     "sourceType": "datasetVersion"
    }
   ],
   "dockerImageVersionId": 30823,
   "isGpuEnabled": true,
   "isInternetEnabled": true,
   "language": "python",
   "sourceType": "notebook"
  },
  "kernelspec": {
   "display_name": "Python 3",
   "language": "python",
   "name": "python3"
  },
  "language_info": {
   "codemirror_mode": {
    "name": "ipython",
    "version": 3
   },
   "file_extension": ".py",
   "mimetype": "text/x-python",
   "name": "python",
   "nbconvert_exporter": "python",
   "pygments_lexer": "ipython3",
   "version": "3.10.12"
  },
  "papermill": {
   "default_parameters": {},
   "duration": 16.802696,
   "end_time": "2025-01-08T10:06:35.077571",
   "environment_variables": {},
   "exception": null,
   "input_path": "__notebook__.ipynb",
   "output_path": "__notebook__.ipynb",
   "parameters": {},
   "start_time": "2025-01-08T10:06:18.274875",
   "version": "2.6.0"
  }
 },
 "nbformat": 4,
 "nbformat_minor": 5
}
